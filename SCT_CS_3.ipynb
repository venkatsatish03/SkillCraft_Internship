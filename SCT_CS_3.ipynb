{
  "nbformat": 4,
  "nbformat_minor": 0,
  "metadata": {
    "colab": {
      "provenance": [],
      "authorship_tag": "ABX9TyMuMjrQVN2c9eruntGwAT18",
      "include_colab_link": true
    },
    "kernelspec": {
      "name": "python3",
      "display_name": "Python 3"
    },
    "language_info": {
      "name": "python"
    }
  },
  "cells": [
    {
      "cell_type": "markdown",
      "metadata": {
        "id": "view-in-github",
        "colab_type": "text"
      },
      "source": [
        "<a href=\"https://colab.research.google.com/github/venkatsatish03/SkillCraft_Internship/blob/main/SCT_CS_3.ipynb\" target=\"_parent\"><img src=\"https://colab.research.google.com/assets/colab-badge.svg\" alt=\"Open In Colab\"/></a>"
      ]
    },
    {
      "cell_type": "code",
      "execution_count": null,
      "metadata": {
        "colab": {
          "base_uri": "https://localhost:8080/"
        },
        "id": "LcF69gtZD0i0",
        "outputId": "07b00382-d231-4780-8c5b-298acbeaafd9"
      },
      "outputs": [
        {
          "output_type": "stream",
          "name": "stdout",
          "text": [
            "Enter a password to check its strength: satish\n",
            "\n",
            "--- Password Strength Report ---\n",
            "Strength Score: 1/5\n",
            "Overall Strength: Weak 😔\n",
            "\n",
            "Suggestions for improvement:\n",
            "- Password must be at least 8 characters long.\n",
            "- Password must contain at least one uppercase letter.\n",
            "- Password must contain at least one number.\n",
            "- Password must contain at least one special character.\n"
          ]
        }
      ],
      "source": [
        "import re\n",
        "\n",
        "def check_password_strength(password):\n",
        "\n",
        "    score = 0\n",
        "    feedback = []\n",
        "\n",
        "    # Criterion 1: Length\n",
        "    if len(password) >= 8:\n",
        "        score += 1\n",
        "    else:\n",
        "        feedback.append(\"Password must be at least 8 characters long.\")\n",
        "\n",
        "    # Criterion 2: Uppercase letters\n",
        "    if re.search(r'[A-Z]', password):\n",
        "        score += 1\n",
        "    else:\n",
        "        feedback.append(\"Password must contain at least one uppercase letter.\")\n",
        "\n",
        "    # Criterion 3: Lowercase letters\n",
        "    if re.search(r'[a-z]', password):\n",
        "        score += 1\n",
        "    else:\n",
        "        feedback.append(\"Password must contain at least one lowercase letter.\")\n",
        "\n",
        "    # Criterion 4: Numbers\n",
        "    if re.search(r'[0-9]', password):\n",
        "        score += 1\n",
        "    else:\n",
        "        feedback.append(\"Password must contain at least one number.\")\n",
        "\n",
        "    # Criterion 5: Special characters\n",
        "    if re.search(r'[^A-Za-z0-9]', password):\n",
        "        score += 1\n",
        "    else:\n",
        "        feedback.append(\"Password must contain at least one special character.\")\n",
        "\n",
        "    return score, feedback\n",
        "\n",
        "if __name__ == \"__main__\":\n",
        "    # Get user input for the password\n",
        "    user_password = input(\"Enter a password to check its strength: \")\n",
        "\n",
        "    # Check the password and get the results\n",
        "    strength_score, feedback_list = check_password_strength(user_password)\n",
        "\n",
        "    # Print the report\n",
        "    print(\"\\n--- Password Strength Report ---\")\n",
        "    print(f\"Strength Score: {strength_score}/5\")\n",
        "\n",
        "    if strength_score == 5:\n",
        "        print(\"Overall Strength: Strong 💪\")\n",
        "    elif strength_score >= 3:\n",
        "        print(\"Overall Strength: Medium 😉\")\n",
        "    else:\n",
        "        print(\"Overall Strength: Weak 😔\")\n",
        "\n",
        "    if feedback_list:\n",
        "        print(\"\\nSuggestions for improvement:\")\n",
        "        for suggestion in feedback_list:\n",
        "            print(f\"- {suggestion}\")"
      ]
    },
    {
      "cell_type": "code",
      "source": [
        "import re\n",
        "\n",
        "def check_password_strength(password):\n",
        "    \"\"\"\n",
        "    Assesses the strength of a password based on several criteria.\n",
        "    Returns a score and a list of feedback messages.\n",
        "    \"\"\"\n",
        "    score = 0\n",
        "    feedback = []\n",
        "\n",
        "    # Criterion 1: Length\n",
        "    if len(password) >= 8:\n",
        "        score += 1\n",
        "    else:\n",
        "        feedback.append(\"Password must be at least 8 characters long.\")\n",
        "\n",
        "    # Criterion 2: Uppercase letters\n",
        "    if re.search(r'[A-Z]', password):\n",
        "        score += 1\n",
        "    else:\n",
        "        feedback.append(\"Password must contain at least one uppercase letter.\")\n",
        "\n",
        "    # Criterion 3: Lowercase letters\n",
        "    if re.search(r'[a-z]', password):\n",
        "        score += 1\n",
        "    else:\n",
        "        feedback.append(\"Password must contain at least one lowercase letter.\")\n",
        "\n",
        "    # Criterion 4: Numbers\n",
        "    if re.search(r'[0-9]', password):\n",
        "        score += 1\n",
        "    else:\n",
        "        feedback.append(\"Password must contain at least one number.\")\n",
        "\n",
        "    # Criterion 5: Special characters\n",
        "    if re.search(r'[^A-Za-z0-9]', password):\n",
        "        score += 1\n",
        "    else:\n",
        "        feedback.append(\"Password must contain at least one special character.\")\n",
        "\n",
        "    return score, feedback\n",
        "\n",
        "if __name__ == \"__main__\":\n",
        "    print(\"Welcome to the Password Strength Checker!\")\n",
        "    print(\"Please enter a password that meets all criteria to proceed.\")\n",
        "\n",
        "    while True:\n",
        "        # Get user input for the password\n",
        "        user_password = input(\"\\nEnter a password: \")\n",
        "\n",
        "        # Check the password and get the results\n",
        "        strength_score, feedback_list = check_password_strength(user_password)\n",
        "\n",
        "        # Check if all criteria are met\n",
        "        if strength_score == 5:\n",
        "            print(\"\\n✅ Success! Your password is strong and meets all criteria.\")\n",
        "            break  # Exit the loop\n",
        "        else:\n",
        "            # If not all criteria are met, provide feedback and continue the loop\n",
        "            print(\"\\n❌ Your password is not strong enough. Please try again.\")\n",
        "            print(\"Current Strength Score: \" + str(strength_score) + \"/5\")\n",
        "            print(\"Suggestions for improvement:\")\n",
        "            for suggestion in feedback_list:\n",
        "                print(f\"- {suggestion}\")"
      ],
      "metadata": {
        "colab": {
          "base_uri": "https://localhost:8080/"
        },
        "id": "SrmCKIoKEDjw",
        "outputId": "a4edbbe5-a0cc-422e-f6dd-441497227a05"
      },
      "execution_count": null,
      "outputs": [
        {
          "output_type": "stream",
          "name": "stdout",
          "text": [
            "Welcome to the Password Strength Checker!\n",
            "Please enter a password that meets all criteria to proceed.\n",
            "\n",
            "Enter a password: skillcraft\n",
            "\n",
            "❌ Your password is not strong enough. Please try again.\n",
            "Current Strength Score: 2/5\n",
            "Suggestions for improvement:\n",
            "- Password must contain at least one uppercase letter.\n",
            "- Password must contain at least one number.\n",
            "- Password must contain at least one special character.\n",
            "\n",
            "Enter a password: SkillCraft\n",
            "\n",
            "❌ Your password is not strong enough. Please try again.\n",
            "Current Strength Score: 3/5\n",
            "Suggestions for improvement:\n",
            "- Password must contain at least one number.\n",
            "- Password must contain at least one special character.\n",
            "\n",
            "Enter a password: SkillCraft123\n",
            "\n",
            "❌ Your password is not strong enough. Please try again.\n",
            "Current Strength Score: 4/5\n",
            "Suggestions for improvement:\n",
            "- Password must contain at least one special character.\n",
            "\n",
            "Enter a password: SkillCraft@123\n",
            "\n",
            "✅ Success! Your password is strong and meets all criteria.\n"
          ]
        }
      ]
    },
    {
      "cell_type": "code",
      "source": [],
      "metadata": {
        "id": "yNW6dedxEMOo"
      },
      "execution_count": null,
      "outputs": []
    }
  ]
}