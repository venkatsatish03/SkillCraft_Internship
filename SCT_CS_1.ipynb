{
  "nbformat": 4,
  "nbformat_minor": 0,
  "metadata": {
    "colab": {
      "provenance": [],
      "authorship_tag": "ABX9TyMLwNbE4ftLevJT6Y4zYmvk",
      "include_colab_link": true
    },
    "kernelspec": {
      "name": "python3",
      "display_name": "Python 3"
    },
    "language_info": {
      "name": "python"
    }
  },
  "cells": [
    {
      "cell_type": "markdown",
      "metadata": {
        "id": "view-in-github",
        "colab_type": "text"
      },
      "source": [
        "<a href=\"https://colab.research.google.com/github/venkatsatish03/SCT_CS_1/blob/main/SCT_CS_1.ipynb\" target=\"_parent\"><img src=\"https://colab.research.google.com/assets/colab-badge.svg\" alt=\"Open In Colab\"/></a>"
      ]
    },
    {
      "cell_type": "code",
      "execution_count": null,
      "metadata": {
        "colab": {
          "base_uri": "https://localhost:8080/"
        },
        "id": "twS8S8uOHLln",
        "outputId": "bdcf2545-144b-453c-b966-8cba59b8a971"
      },
      "outputs": [
        {
          "output_type": "stream",
          "name": "stdout",
          "text": [
            "\n",
            "Caesar Cipher Program\n",
            "1. Encrypt a message\n",
            "2. Decrypt a message\n",
            "3. Exit\n",
            "Enter your choice (1, 2, or 3): 1\n",
            "Enter the message: skillcraft\n",
            "Enter the shift value (a number): 2\n",
            "\n",
            "Your encrypted message is: umknnetchv\n",
            "\n",
            "Caesar Cipher Program\n",
            "1. Encrypt a message\n",
            "2. Decrypt a message\n",
            "3. Exit\n",
            "Enter your choice (1, 2, or 3): 2\n",
            "Enter the message: umknnetchv\n",
            "Enter the shift value (a number): 2\n",
            "\n",
            "Your decrypted message is: skillcraft\n",
            "\n",
            "Caesar Cipher Program\n",
            "1. Encrypt a message\n",
            "2. Decrypt a message\n",
            "3. Exit\n",
            "Enter your choice (1, 2, or 3): 3\n",
            "Exiting program. Goodbye!\n"
          ]
        }
      ],
      "source": [
        "def caesar_cipher(message, shift):\n",
        "    result = \"\"\n",
        "    for char in message:\n",
        "        if char.isalpha():\n",
        "            start = ord('a') if char.islower() else ord('A')\n",
        "            # Shift the character and wrap around\n",
        "            shifted = (ord(char) - start + shift) % 26 + start\n",
        "            result += chr(shifted)\n",
        "        else:\n",
        "            result += char\n",
        "    return result\n",
        "\n",
        "\n",
        "def main():\n",
        "    while True:\n",
        "        print(\"\\nCaesar Cipher Program\")\n",
        "        print(\"1. Encrypt a message\")\n",
        "        print(\"2. Decrypt a message\")\n",
        "        print(\"3. Exit\")\n",
        "        choice = input(\"Enter your choice (1, 2, or 3): \")\n",
        "\n",
        "        if choice == '3':\n",
        "            print(\"Exiting program. Goodbye!\")\n",
        "            break\n",
        "\n",
        "        if choice in ['1', '2']:\n",
        "            message = input(\"Enter the message: \")\n",
        "            try:\n",
        "                shift = int(input(\"Enter the shift value (a number): \"))\n",
        "            except ValueError:\n",
        "                print(\"Invalid shift value. Please enter a number.\")\n",
        "                continue\n",
        "\n",
        "            if choice == '2':\n",
        "                shift = -shift\n",
        "\n",
        "            result = caesar_cipher(message, shift)\n",
        "            mode = \"encrypt\" if choice == '1' else \"decrypt\"\n",
        "            print(f\"\\nYour {mode}ed message is: {result}\")\n",
        "        else:\n",
        "            print(\"Invalid choice. Please select 1, 2, or 3.\")\n",
        "\n",
        "\n",
        "if __name__ == \"__main__\":\n",
        "    main()\n"
      ]
    },
    {
      "cell_type": "code",
      "source": [],
      "metadata": {
        "id": "tBOE_Plv-Oy3"
      },
      "execution_count": null,
      "outputs": []
    }
  ]
}